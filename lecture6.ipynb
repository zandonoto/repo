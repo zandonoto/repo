{
 "cells": [
  {
   "cell_type": "markdown",
   "metadata": {},
   "source": [
    "Bisection Search - Python Lecture\n",
    "    - With guesses we can eliminated lots of information of the database and run faster throught the model\n",
    "    - Can work with anything that has a order in class\n",
    "    - Initial guess will be the half way point\n",
    "\n",
    "Limitations: "
   ]
  },
  {
   "cell_type": "code",
   "execution_count": null,
   "metadata": {},
   "outputs": [
    {
     "name": "stdout",
     "output_type": "stream",
     "text": [
      "num_guesses = 24\n",
      "70.71062922477722 is close to square root of 5000\n"
     ]
    }
   ],
   "source": [
    "x = 5000  # try 0.5\n",
    "epsilon = 0.01\n",
    "# This if statement treats the loop in which we fall when our x is less than 1\n",
    "if x >= 1:\n",
    "    low = 0\n",
    "    high = x\n",
    "else:\n",
    "    low = x # try x\n",
    "    high = 1\n",
    "    \n",
    "guess = (high + low)/2\n",
    "num_guesses = 0\n",
    "\n",
    "while abs(guess**2 - x) >= epsilon:\n",
    "    # uncomment to see each step's guess, high, and low \n",
    "    # print(f'low = {str(low)} high = {str(high)} guess = {str(guess)}')\n",
    "    if guess**2 < x:\n",
    "        low = guess\n",
    "    else:\n",
    "        high = guess\n",
    "    guess = (high + low)/2.0\n",
    "    num_guesses += 1\n",
    "print(f'num_guesses = {str(num_guesses)}')\n",
    "print(f'{str(guess)} is close to square root of {str(x)}')"
   ]
  },
  {
   "cell_type": "code",
   "execution_count": 6,
   "metadata": {},
   "outputs": [
    {
     "name": "stdout",
     "output_type": "stream",
     "text": [
      "num_guesses = 0\n",
      "3.000091552734375 is close to cube root of 27\n"
     ]
    }
   ],
   "source": [
    "cube = 27\n",
    "epsilon = 0.01\n",
    "low = 0\n",
    "high = cube\n",
    "guess = (high + low)/2\n",
    "num_guesses = 0\n",
    "\n",
    "# We need to guess until the difference between the guess cubed and the cube is less than epsilon\n",
    "while abs(guess**3 - cube) >= epsilon:\n",
    "    if guess**3 < cube:\n",
    "        low = guess\n",
    "    else:\n",
    "        high = guess\n",
    "    guess = (high + low)/2.0\n",
    "\n",
    "print(f'num_guesses = {str(num_guesses)}')\n",
    "print(f'{str(guess)} is close to cube root of {str(cube)}')\n",
    "    "
   ]
  },
  {
   "cell_type": "code",
   "execution_count": 13,
   "metadata": {},
   "outputs": [
    {
     "name": "stdout",
     "output_type": "stream",
     "text": [
      "-3.000091552734375 is close to the cube root of 27\n"
     ]
    }
   ],
   "source": [
    "######## Cube root for all cubes ############\n",
    "cube = -27\n",
    "neg = False\n",
    "if cube < 0:\n",
    "    neg = True\n",
    "cube = abs(cube)\n",
    "epsilon = 0.01\n",
    "low = 0\n",
    "high = cube\n",
    "guess = (high + low)/2.0\n",
    "while abs(guess**3 - cube) >= epsilon:\n",
    "    if guess**3 < cube :\n",
    "        low = guess\n",
    "    else:\n",
    "        high = guess\n",
    "    guess = (high + low)/2.0\n",
    "if neg == True:\n",
    "    guess = -guess\n",
    "print(f'{guess} is close to the cube root of {cube}')"
   ]
  },
  {
   "cell_type": "code",
   "execution_count": null,
   "metadata": {},
   "outputs": [
    {
     "name": "stdout",
     "output_type": "stream",
     "text": [
      "num_guesses = 17\n",
      "Square root of 128739812 is about 11346.356772109715\n"
     ]
    }
   ],
   "source": [
    "# EXAMPLE: Newton-Raphson to find roots\n",
    "epsilon = 0.01\n",
    "k = 128739812  # try 54321\n",
    "guess = k/2.0\n",
    "num_guesses = 0\n",
    "\n",
    "while abs(guess*guess - k) >= epsilon:\n",
    "    num_guesses += 1\n",
    "    guess = guess - (((guess**2) - k)/(2*guess))\n",
    "print(f'num_guesses = {str(num_guesses)}')\n",
    "print(f'Square root of {str(k)} is about {str(guess)}')"
   ]
  }
 ],
 "metadata": {
  "kernelspec": {
   "display_name": "env",
   "language": "python",
   "name": "python3"
  },
  "language_info": {
   "codemirror_mode": {
    "name": "ipython",
    "version": 3
   },
   "file_extension": ".py",
   "mimetype": "text/x-python",
   "name": "python",
   "nbconvert_exporter": "python",
   "pygments_lexer": "ipython3",
   "version": "3.13.0"
  }
 },
 "nbformat": 4,
 "nbformat_minor": 2
}
